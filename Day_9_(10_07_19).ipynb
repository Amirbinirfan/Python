{
  "nbformat": 4,
  "nbformat_minor": 0,
  "metadata": {
    "colab": {
      "name": "Day 9 (10-07-19).ipynb",
      "version": "0.3.2",
      "provenance": [],
      "collapsed_sections": [],
      "include_colab_link": true
    },
    "language_info": {
      "codemirror_mode": {
        "name": "ipython",
        "version": 3
      },
      "file_extension": ".py",
      "mimetype": "text/x-python",
      "name": "python",
      "nbconvert_exporter": "python",
      "pygments_lexer": "ipython3",
      "version": "3.7.3"
    },
    "kernelspec": {
      "display_name": "Python 3",
      "language": "python",
      "name": "python3"
    }
  },
  "cells": [
    {
      "cell_type": "markdown",
      "metadata": {
        "id": "view-in-github",
        "colab_type": "text"
      },
      "source": [
        "<a href=\"https://colab.research.google.com/github/Amirbinirfan/Python/blob/master/Day_9_(10_07_19).ipynb\" target=\"_parent\"><img src=\"https://colab.research.google.com/assets/colab-badge.svg\" alt=\"Open In Colab\"/></a>"
      ]
    },
    {
      "cell_type": "markdown",
      "metadata": {
        "id": "r5FtqXONXo4k",
        "colab_type": "text"
      },
      "source": [
        "# Data structures"
      ]
    },
    {
      "cell_type": "markdown",
      "metadata": {
        "id": "Yk5bO4eZXo4p",
        "colab_type": "text"
      },
      "source": [
        "### Dictionary\n",
        "* It works on the set concept of Unique Data\n",
        "* Keys,Values is the unique identifier for a value\n",
        "* Each key is separated from its values with colon(:)\n",
        "* Each key value is separated by comma (,)\n",
        "* Dictionaries are enclosed by curly braces{}"
      ]
    },
    {
      "cell_type": "code",
      "metadata": {
        "id": "uSIIiUA7Xo4s",
        "colab_type": "code",
        "outputId": "13666405-aeaf-4e7d-ad5d-5720d32a416d",
        "colab": {}
      },
      "source": [
        "d1 = {\"name\":\"Gitam\",\"Email ID\":\"gitam@gmail.com\",\"Address\":\"HYDERABAD\"}\n",
        "print(d1)"
      ],
      "execution_count": 0,
      "outputs": [
        {
          "output_type": "stream",
          "text": [
            "{'name': 'Gitam', 'Email ID': 'gitam@gmail.com', 'Address': 'HYDERABAD'}\n"
          ],
          "name": "stdout"
        }
      ]
    },
    {
      "cell_type": "code",
      "metadata": {
        "id": "0f04gKcYXo44",
        "colab_type": "code",
        "outputId": "e9ba774f-f534-47f6-df28-30bf60589bb5",
        "colab": {}
      },
      "source": [
        "d1[\"name\"]"
      ],
      "execution_count": 0,
      "outputs": [
        {
          "output_type": "execute_result",
          "data": {
            "text/plain": [
              "'Gitam'"
            ]
          },
          "metadata": {
            "tags": []
          },
          "execution_count": 12
        }
      ]
    },
    {
      "cell_type": "code",
      "metadata": {
        "id": "ZDKHjacHXo4_",
        "colab_type": "code",
        "colab": {}
      },
      "source": [
        "d1 [\"name\"] = 'nitin'"
      ],
      "execution_count": 0,
      "outputs": []
    },
    {
      "cell_type": "code",
      "metadata": {
        "id": "oYn2uBr4Xo5C",
        "colab_type": "code",
        "outputId": "e6b84f02-3def-4c33-a154-0acd34358e8a",
        "colab": {}
      },
      "source": [
        "d1[\"name\"]"
      ],
      "execution_count": 0,
      "outputs": [
        {
          "output_type": "execute_result",
          "data": {
            "text/plain": [
              "'Gitam'"
            ]
          },
          "metadata": {
            "tags": []
          },
          "execution_count": 13
        }
      ]
    },
    {
      "cell_type": "markdown",
      "metadata": {
        "id": "uO6NiVE7Xo5H",
        "colab_type": "text"
      },
      "source": [
        "### Tuples\n",
        "* t1 parenthesis () li square bracket []\n",
        "* Difference between list and tuples\n",
        "     * lists are mutable i.e. can be changed/modified\n",
        "         * Used to access modify, add, delete data\n",
        "         "
      ]
    },
    {
      "cell_type": "code",
      "metadata": {
        "id": "w_D354H9Xo5I",
        "colab_type": "code",
        "outputId": "6b55c496-b8f9-4dde-d17d-7d705b5d6f1a",
        "colab": {}
      },
      "source": [
        "t1 = [1,2,3,4,5]\n",
        "t1\n",
        "type(t1)"
      ],
      "execution_count": 0,
      "outputs": [
        {
          "output_type": "execute_result",
          "data": {
            "text/plain": [
              "list"
            ]
          },
          "metadata": {
            "tags": []
          },
          "execution_count": 20
        }
      ]
    },
    {
      "cell_type": "code",
      "metadata": {
        "id": "5PcCclHcXo5M",
        "colab_type": "code",
        "colab": {}
      },
      "source": [
        "d1[]"
      ],
      "execution_count": 0,
      "outputs": []
    },
    {
      "cell_type": "code",
      "metadata": {
        "id": "h7s1I4IVXo5P",
        "colab_type": "code",
        "outputId": "b55f1315-ffd3-41a8-c102-396d73491166",
        "colab": {}
      },
      "source": [
        ""
      ],
      "execution_count": 0,
      "outputs": [
        {
          "output_type": "error",
          "ename": "AttributeError",
          "evalue": "'dict' object has no attribute 'key'",
          "traceback": [
            "\u001b[1;31m---------------------------------------------------------------------------\u001b[0m",
            "\u001b[1;31mAttributeError\u001b[0m                            Traceback (most recent call last)",
            "\u001b[1;32m<ipython-input-19-055e867452c2>\u001b[0m in \u001b[0;36m<module>\u001b[1;34m\u001b[0m\n\u001b[1;32m----> 1\u001b[1;33m \u001b[0md1\u001b[0m\u001b[1;33m.\u001b[0m\u001b[0mkey\u001b[0m\u001b[1;33m(\u001b[0m\u001b[1;33m)\u001b[0m\u001b[1;33m\u001b[0m\u001b[1;33m\u001b[0m\u001b[0m\n\u001b[0m",
            "\u001b[1;31mAttributeError\u001b[0m: 'dict' object has no attribute 'key'"
          ]
        }
      ]
    },
    {
      "cell_type": "markdown",
      "metadata": {
        "id": "3CPBSFz0Xo5S",
        "colab_type": "text"
      },
      "source": [
        " # Contact Applications\n",
        " * Add contact\n",
        " * Search contacts\n",
        " * Listing contacts\n",
        " * Modify contact\n",
        " * Remove contact\n",
        " * Import contact"
      ]
    },
    {
      "cell_type": "code",
      "metadata": {
        "id": "PeUB8qHsXo5U",
        "colab_type": "code",
        "outputId": "7844ac93-c980-4bf6-b589-bb016f797428",
        "colab": {}
      },
      "source": [
        "# add contact\n",
        "contacts = {}\n",
        "def addcontact(name,phone):\n",
        "    if name not in contacts:\n",
        "        contacts[name] = phone\n",
        "        print(\"Contact details are added\")\n",
        "    else:\n",
        "        print(\"contact already exists\")\n",
        "    return\n",
        "addcontact('nit','4844521662')\n",
        "addcontact('niit','4844521661')\n",
        "addcontact('nit','4844521662')\n"
      ],
      "execution_count": 0,
      "outputs": [
        {
          "output_type": "stream",
          "text": [
            "Contact details are added\n",
            "Contact details are added\n",
            "contact already exists\n"
          ],
          "name": "stdout"
        }
      ]
    },
    {
      "cell_type": "code",
      "metadata": {
        "id": "X4QY60KVXo5X",
        "colab_type": "code",
        "outputId": "e90411a5-dac0-49b6-f1e5-a82e7dd22be9",
        "colab": {}
      },
      "source": [
        "# Search contacts\n",
        "def searchcontact(name):\n",
        "    if name in contacts:\n",
        "        print(name,\":\",contacts[name])\n",
        "    else:\n",
        "        print(\"%s does not exist\" % name)\n",
        "    return\n",
        "searchcontact('nit')\n",
        "searchcontact('nwrefn')"
      ],
      "execution_count": 0,
      "outputs": [
        {
          "output_type": "stream",
          "text": [
            "nit : 4844521662\n",
            "nwrefn does not exist\n"
          ],
          "name": "stdout"
        }
      ]
    },
    {
      "cell_type": "code",
      "metadata": {
        "id": "avMqJmXeXo5b",
        "colab_type": "code",
        "outputId": "b2851aad-c146-4fd7-9cab-97691a39566a",
        "colab": {}
      },
      "source": [
        "def deletecontact(name):\n",
        "    if name in contacts:\n",
        "        del contacts[name]\n",
        "        print(name,\"deleted successfully\")\n",
        "    else:\n",
        "        print(name,\"does'nt exist\")\n",
        "    return\n",
        "deletecontact('niit')"
      ],
      "execution_count": 0,
      "outputs": [
        {
          "output_type": "stream",
          "text": [
            "niit deleted successfully\n"
          ],
          "name": "stdout"
        }
      ]
    },
    {
      "cell_type": "code",
      "metadata": {
        "id": "sn56BD3BXo5f",
        "colab_type": "code",
        "outputId": "6f47673a-c708-4a75-8487-66f957a4e435",
        "colab": {}
      },
      "source": [
        "# To print fibonacci numbers in reverse order with input as 5\n",
        "def reverseFibonacci(n): \n",
        "   \n",
        "    a = [0] * n  \n",
        "  \n",
        "    # assigning first and second elements \n",
        "    a[0] = 0 \n",
        "    a[1] = 1 \n",
        "  \n",
        "    for i in range(2, n):   \n",
        "  \n",
        "        # storing sum in the \n",
        "        # preceding location \n",
        "        a[i] = a[i - 2] + a[i - 1]  \n",
        "       \n",
        "  \n",
        "    for i in range(n - 1, -1 , -1):   \n",
        "  \n",
        "        # printing array in \n",
        "        # reverse order \n",
        "        print(a[i],end=\" \")  \n",
        "       \n",
        "   \n",
        "  \n",
        "# Driver function \n",
        "n = 5\n",
        "reverseFibonacci(n)  "
      ],
      "execution_count": 0,
      "outputs": [
        {
          "output_type": "stream",
          "text": [
            "3 2 1 1 0 "
          ],
          "name": "stdout"
        }
      ]
    },
    {
      "cell_type": "code",
      "metadata": {
        "id": "xNOeoxRAXo5i",
        "colab_type": "code",
        "outputId": "304da125-c62b-4342-fd62-c03a540af4fb",
        "colab": {}
      },
      "source": [
        "# To print fibonacci numbers in reverse order with input as 12\n",
        "def reverseFibonacci(n): \n",
        "   \n",
        "    a = [0] * n  \n",
        "  \n",
        "    # assigning first and second elements \n",
        "    a[0] = 0 \n",
        "    a[1] = 1 \n",
        "  \n",
        "    for i in range(2, n):   \n",
        "  \n",
        "        # storing sum in the \n",
        "        # preceding location \n",
        "        a[i] = a[i - 2] + a[i - 1]  \n",
        "       \n",
        "  \n",
        "    for i in range(n - 1, -1 , -1):   \n",
        "  \n",
        "        # printing array in \n",
        "        # reverse order \n",
        "        print(a[i],end=\" \")  \n",
        "       \n",
        "   \n",
        "  \n",
        "# Driver function \n",
        "n = 12\n",
        "reverseFibonacci(n)  "
      ],
      "execution_count": 0,
      "outputs": [
        {
          "output_type": "stream",
          "text": [
            "89 55 34 21 13 8 5 3 2 1 1 0 "
          ],
          "name": "stdout"
        }
      ]
    },
    {
      "cell_type": "code",
      "metadata": {
        "id": "SMadUgmuXo5m",
        "colab_type": "code",
        "outputId": "1a1b5e4b-391b-46c7-cebb-7a340f6fc940",
        "colab": {}
      },
      "source": [
        "li = ['gitam','college','university']\n",
        "li.count(1)"
      ],
      "execution_count": 0,
      "outputs": [
        {
          "output_type": "execute_result",
          "data": {
            "text/plain": [
              "0"
            ]
          },
          "metadata": {
            "tags": []
          },
          "execution_count": 1
        }
      ]
    },
    {
      "cell_type": "code",
      "metadata": {
        "id": "6bmkC2ygXo5u",
        "colab_type": "code",
        "outputId": "95d95bc6-d9b6-4e68-888d-9bba0b31b0a9",
        "colab": {}
      },
      "source": [
        "int = 5\n",
        "print type(type(int))"
      ],
      "execution_count": 0,
      "outputs": [
        {
          "output_type": "error",
          "ename": "SyntaxError",
          "evalue": "invalid syntax (<ipython-input-3-0621b7799b45>, line 2)",
          "traceback": [
            "\u001b[1;36m  File \u001b[1;32m\"<ipython-input-3-0621b7799b45>\"\u001b[1;36m, line \u001b[1;32m2\u001b[0m\n\u001b[1;33m    print type(type(int))\u001b[0m\n\u001b[1;37m             ^\u001b[0m\n\u001b[1;31mSyntaxError\u001b[0m\u001b[1;31m:\u001b[0m invalid syntax\n"
          ]
        }
      ]
    },
    {
      "cell_type": "code",
      "metadata": {
        "id": "jtbYJ9z6Xo5y",
        "colab_type": "code",
        "outputId": "c29dd01f-d947-48da-8abe-1e5be76e5eda",
        "colab": {}
      },
      "source": [
        "list1 = [1,2,3,4,5]\n",
        "list2 = [1,2]\n",
        "print(list(set(list1)-set(list2)))"
      ],
      "execution_count": 0,
      "outputs": [
        {
          "output_type": "stream",
          "text": [
            "[3, 4, 5]\n"
          ],
          "name": "stdout"
        }
      ]
    },
    {
      "cell_type": "markdown",
      "metadata": {
        "id": "Xy2QCRLMXo53",
        "colab_type": "text"
      },
      "source": [
        "# String Formatting\n",
        "* Classic version\n",
        "* Current version"
      ]
    },
    {
      "cell_type": "code",
      "metadata": {
        "id": "U371OxBSXo54",
        "colab_type": "code",
        "outputId": "d6421e53-3d65-4c87-bc13-5b574e1a744d",
        "colab": {}
      },
      "source": [
        "# Classical version\n",
        "li = [\"Python\",\"Programming\"]\n",
        "print(\"%s %s\" % (li[0],li[1]))"
      ],
      "execution_count": 0,
      "outputs": [
        {
          "output_type": "stream",
          "text": [
            "Python Programming\n"
          ],
          "name": "stdout"
        }
      ]
    },
    {
      "cell_type": "code",
      "metadata": {
        "id": "PUwoIdcSXo59",
        "colab_type": "code",
        "outputId": "a052efc6-742c-4ef2-b4b4-77d574691e61",
        "colab": {}
      },
      "source": [
        "print(\"{0} {1}\".format(li[0],li[1]))"
      ],
      "execution_count": 0,
      "outputs": [
        {
          "output_type": "stream",
          "text": [
            "Python Programming\n"
          ],
          "name": "stdout"
        }
      ]
    },
    {
      "cell_type": "code",
      "metadata": {
        "id": "-bX3-mf6Xo6C",
        "colab_type": "code",
        "outputId": "629361f7-aaf0-47e5-cab2-6910443af100",
        "colab": {}
      },
      "source": [
        "li = [1,2,3,4]\n",
        "print(\"%d%d%d%d\"%(li[0],li[1],li[2],li[3]))"
      ],
      "execution_count": 0,
      "outputs": [
        {
          "output_type": "stream",
          "text": [
            "1234\n"
          ],
          "name": "stdout"
        }
      ]
    },
    {
      "cell_type": "markdown",
      "metadata": {
        "id": "8HONWGI6Xo6F",
        "colab_type": "text"
      },
      "source": [
        "# Boolean Function\n",
        " * islower() - True if the string is lower case/False if the string is not in lower case\n",
        " * isupper() - True if the string is upper case/False if the string is not in upper case\n",
        " * istitle() - If the string follows title case\n",
        " * isalpha() - If the string is having alphabet\n",
        " * isnumeric() - if the string has numbers\n",
        " * isspace() - if the string has spaces"
      ]
    },
    {
      "cell_type": "code",
      "metadata": {
        "id": "L2D2yTpLXo6F",
        "colab_type": "code",
        "outputId": "dd128ba2-9187-48a0-8de6-26ca62698333",
        "colab": {}
      },
      "source": [
        "s1 = 'Gitam'\n",
        "print(s1.islower())\n",
        "print(s1.isupper())"
      ],
      "execution_count": 0,
      "outputs": [
        {
          "output_type": "stream",
          "text": [
            "False\n",
            "False\n"
          ],
          "name": "stdout"
        }
      ]
    },
    {
      "cell_type": "code",
      "metadata": {
        "id": "ZoLZx2PbXo6I",
        "colab_type": "code",
        "outputId": "7c207564-5979-4623-ebcd-371c4a51da57",
        "colab": {}
      },
      "source": [
        "s2 = \"application889\"\n",
        "s3 = \"pythonProgramming\"\n",
        "print(s2.isalpha())\n",
        "print(s3.isalpha())"
      ],
      "execution_count": 0,
      "outputs": [
        {
          "output_type": "stream",
          "text": [
            "False\n",
            "True\n"
          ],
          "name": "stdout"
        }
      ]
    },
    {
      "cell_type": "markdown",
      "metadata": {
        "id": "dQHkxcEMXo6L",
        "colab_type": "text"
      },
      "source": [
        "### String Method\n",
        "   * 1 .join() -- Method will concatinate the two strings\n",
        "   * 2 .split() -- returns the set of strings with blankspaces\n",
        "   * 3"
      ]
    },
    {
      "cell_type": "code",
      "metadata": {
        "id": "VNfWsACGXo6M",
        "colab_type": "code",
        "outputId": "3e2166d9-edc6-4d6e-f095-a2fd27a70ca4",
        "colab": {}
      },
      "source": [
        "s1 = 'Python'\n",
        "print(\" \".join(s1))"
      ],
      "execution_count": 0,
      "outputs": [
        {
          "output_type": "stream",
          "text": [
            "P y t h o n\n"
          ],
          "name": "stdout"
        }
      ]
    },
    {
      "cell_type": "code",
      "metadata": {
        "id": "qX2lMVIvXo6P",
        "colab_type": "code",
        "outputId": "8b5def5e-539d-42ba-c5b8-49339ffbfbb0",
        "colab": {}
      },
      "source": [
        "s2 = \"Python Programming Easy to learn\"\n",
        "print(\" \".join(s2))"
      ],
      "execution_count": 0,
      "outputs": [
        {
          "output_type": "stream",
          "text": [
            "P y t h o n   P r o g r a m m i n g   E a s y   t o   l e a r n\n"
          ],
          "name": "stdout"
        }
      ]
    },
    {
      "cell_type": "code",
      "metadata": {
        "id": "KjQXZYwCXo6S",
        "colab_type": "code",
        "outputId": "607b1f03-c0fe-433e-cff2-89288d147288",
        "colab": {}
      },
      "source": [
        "li = ['Python','Programming','Learn']\n",
        "print(\",\".join(li))"
      ],
      "execution_count": 0,
      "outputs": [
        {
          "output_type": "stream",
          "text": [
            "Python,Programming,Learn\n"
          ],
          "name": "stdout"
        }
      ]
    },
    {
      "cell_type": "code",
      "metadata": {
        "id": "DL7eqOPBXo6V",
        "colab_type": "code",
        "outputId": "0ec78747-b7f2-481c-e763-db312f017a97",
        "colab": {}
      },
      "source": [
        "s2 = \"Python Programming Easy to learn\"\n",
        "print(s2.split())"
      ],
      "execution_count": 0,
      "outputs": [
        {
          "output_type": "stream",
          "text": [
            "['Python', 'Programming', 'Easy', 'to', 'learn']\n"
          ],
          "name": "stdout"
        }
      ]
    },
    {
      "cell_type": "code",
      "metadata": {
        "id": "UZhGbp29Xo6Y",
        "colab_type": "code",
        "outputId": "163fb68c-423f-48a2-e75b-fe36bef2f0ab",
        "colab": {}
      },
      "source": [
        "s2 = \"Python Programming Easy to learn\"\n",
        "li = list(s2)\n",
        "print(li)"
      ],
      "execution_count": 0,
      "outputs": [
        {
          "output_type": "stream",
          "text": [
            "['P', 'y', 't', 'h', 'o', 'n', ' ', 'P', 'r', 'o', 'g', 'r', 'a', 'm', 'm', 'i', 'n', 'g', ' ', 'E', 'a', 's', 'y', ' ', 't', 'o', ' ', 'l', 'e', 'a', 'r', 'n']\n"
          ],
          "name": "stdout"
        }
      ]
    },
    {
      "cell_type": "code",
      "metadata": {
        "id": "iZG_aspdXo6d",
        "colab_type": "code",
        "colab": {}
      },
      "source": [
        ""
      ],
      "execution_count": 0,
      "outputs": []
    }
  ]
}