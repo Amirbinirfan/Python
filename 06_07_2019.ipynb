{
  "nbformat": 4,
  "nbformat_minor": 0,
  "metadata": {
    "colab": {
      "name": "06-07-2019.ipynb",
      "version": "0.3.2",
      "provenance": [],
      "include_colab_link": true
    },
    "kernelspec": {
      "name": "python3",
      "display_name": "Python 3"
    }
  },
  "cells": [
    {
      "cell_type": "markdown",
      "metadata": {
        "id": "view-in-github",
        "colab_type": "text"
      },
      "source": [
        "<a href=\"https://colab.research.google.com/github/Amirbinirfan/Python/blob/master/06_07_2019.ipynb\" target=\"_parent\"><img src=\"https://colab.research.google.com/assets/colab-badge.svg\" alt=\"Open In Colab\"/></a>"
      ]
    },
    {
      "cell_type": "code",
      "metadata": {
        "id": "rx3jeitCa8_T",
        "colab_type": "code",
        "colab": {}
      },
      "source": [
        ""
      ],
      "execution_count": 0,
      "outputs": []
    },
    {
      "cell_type": "markdown",
      "metadata": {
        "id": "EK-JY2LNbdm9",
        "colab_type": "text"
      },
      "source": [
        "\n",
        "# Markdown basics\n",
        "## Markdown basics\n",
        "### markdown basics\n",
        ". ***point3(bold and italic)\n",
        ". normal text\n",
        ".sublist1\n",
        "    1 point1\n",
        "    2 point2\n",
        "    \n",
        ".adding links to markdown\n",
        ". google sites--\n",
        ".mns site--\n",
        ".option 1 print (\"hello\")\n",
        "\n",
        "   "
      ]
    },
    {
      "cell_type": "code",
      "metadata": {
        "id": "tw0Y-Sa8eSI9",
        "colab_type": "code",
        "outputId": "c74f18c7-99a6-48c5-85ff-d899e971fd53",
        "colab": {
          "base_uri": "https://localhost:8080/",
          "height": 33
        }
      },
      "source": [
        "print(\"hello\")"
      ],
      "execution_count": 0,
      "outputs": [
        {
          "output_type": "stream",
          "text": [
            "hello\n"
          ],
          "name": "stdout"
        }
      ]
    },
    {
      "cell_type": "code",
      "metadata": {
        "id": "gW97dUE7ecrR",
        "colab_type": "code",
        "outputId": "97805671-3b4f-451d-b9a2-8598a19ce4af",
        "colab": {
          "base_uri": "https://localhost:8080/",
          "height": 33
        }
      },
      "source": [
        "print(\"gitam university\")\n"
      ],
      "execution_count": 0,
      "outputs": [
        {
          "output_type": "stream",
          "text": [
            "gitam university\n"
          ],
          "name": "stdout"
        }
      ]
    },
    {
      "cell_type": "code",
      "metadata": {
        "id": "WyyFVI9beiKH",
        "colab_type": "code",
        "outputId": "99d07750-7db3-4381-e253-c9720a80af85",
        "colab": {
          "base_uri": "https://localhost:8080/",
          "height": 50
        }
      },
      "source": [
        "n1=100\n",
        "a=b=c=146\n",
        "print(n1)\n",
        "print(a,b,c)"
      ],
      "execution_count": 0,
      "outputs": [
        {
          "output_type": "stream",
          "text": [
            "100\n",
            "146 146 146\n"
          ],
          "name": "stdout"
        }
      ]
    },
    {
      "cell_type": "code",
      "metadata": {
        "id": "KoZkf6HEewtH",
        "colab_type": "code",
        "outputId": "3be90038-3134-4df2-abf9-a15b52b0f5d2",
        "colab": {
          "base_uri": "https://localhost:8080/",
          "height": 33
        }
      },
      "source": [
        "a=100;\n",
        "s1='python'\n",
        "s2='p'\n",
        "f1=10.2\n",
        "print(a,s1,s2,f1)"
      ],
      "execution_count": 0,
      "outputs": [
        {
          "output_type": "stream",
          "text": [
            "100 python p 10.2\n"
          ],
          "name": "stdout"
        }
      ]
    },
    {
      "cell_type": "code",
      "metadata": {
        "id": "FHRJ0zNCfNv5",
        "colab_type": "code",
        "outputId": "8bfea564-52f2-44e0-be86-fe192664bde3",
        "colab": {
          "base_uri": "https://localhost:8080/",
          "height": 33
        }
      },
      "source": [
        "a1=1234\n",
        "print(len(str(a1)))"
      ],
      "execution_count": 0,
      "outputs": [
        {
          "output_type": "stream",
          "text": [
            "4\n"
          ],
          "name": "stdout"
        }
      ]
    },
    {
      "cell_type": "code",
      "metadata": {
        "id": "A-z9QDdHfYiS",
        "colab_type": "code",
        "outputId": "78e34d3d-5937-4320-de10-98960842ebb0",
        "colab": {
          "base_uri": "https://localhost:8080/",
          "height": 67
        }
      },
      "source": [
        "s1=input(\"name please\")\n",
        "print(s1)\n",
        "print(type(s1))"
      ],
      "execution_count": 0,
      "outputs": [
        {
          "output_type": "stream",
          "text": [
            "name pleaseMohammed Amir Bin Irfan\n",
            "Mohammed Amir Bin Irfan\n",
            "<class 'str'>\n"
          ],
          "name": "stdout"
        }
      ]
    },
    {
      "cell_type": "code",
      "metadata": {
        "id": "F9Ey5p4Sgx1g",
        "colab_type": "code",
        "outputId": "7fee8f6a-10c5-4dd3-ecd9-d050f32d5e17",
        "colab": {
          "base_uri": "https://localhost:8080/",
          "height": 50
        }
      },
      "source": [
        "n1=int(input(\"enter name\"))\n",
        "print(n1,type((n1)))"
      ],
      "execution_count": 0,
      "outputs": [
        {
          "output_type": "stream",
          "text": [
            "enter name4242\n",
            "4242 <class 'int'>\n"
          ],
          "name": "stdout"
        }
      ]
    },
    {
      "cell_type": "markdown",
      "metadata": {
        "id": "f0xGZwAtlcgj",
        "colab_type": "text"
      },
      "source": [
        "# Relational Operators\n",
        "   .  ==\n",
        "   .  [=\n",
        "   .  greater(>)\n",
        "   .  less than(<)\n",
        "   .  less then or equal to (<=)\n",
        "   .  greater then or equal to(>=)"
      ]
    },
    {
      "cell_type": "code",
      "metadata": {
        "id": "DO6OuCl6mEXi",
        "colab_type": "code",
        "outputId": "990ae3b9-5f9b-44c3-df33-34ae80a7c5db",
        "colab": {
          "base_uri": "https://localhost:8080/",
          "height": 50
        }
      },
      "source": [
        "i=100\n",
        "a1=(i>15) and (i<800)\n",
        "a2=(i>15) and (i>800)\n",
        "print(a1)\n",
        "print(a2)"
      ],
      "execution_count": 0,
      "outputs": [
        {
          "output_type": "stream",
          "text": [
            "True\n",
            "False\n"
          ],
          "name": "stdout"
        }
      ]
    },
    {
      "cell_type": "markdown",
      "metadata": {
        "id": "iVUD9_PmnAmX",
        "colab_type": "text"
      },
      "source": [
        "# To check a given no is even or odd\n"
      ]
    },
    {
      "cell_type": "code",
      "metadata": {
        "id": "QZ87Ph_FnOup",
        "colab_type": "code",
        "outputId": "3673cc21-4cee-41cf-bca6-a7e2f9c8b8fe",
        "colab": {
          "base_uri": "https://localhost:8080/",
          "height": 50
        }
      },
      "source": [
        "n= int(input(\"enter a number\"))\n",
        "if n%2==0:\n",
        "  print(\"even\")\n",
        "else:  \n",
        "    print(\"odd\")"
      ],
      "execution_count": 0,
      "outputs": [
        {
          "output_type": "stream",
          "text": [
            "enter a number11\n",
            "odd\n"
          ],
          "name": "stdout"
        }
      ]
    },
    {
      "cell_type": "markdown",
      "metadata": {
        "id": "lTxC8DpSn3Qd",
        "colab_type": "text"
      },
      "source": [
        "# To check the given no perfectly multiple of 3 and 5"
      ]
    },
    {
      "cell_type": "code",
      "metadata": {
        "id": "ztsLSPl-oIef",
        "colab_type": "code",
        "outputId": "a150abc0-d2b0-41bf-b44f-1e5504cba9fb",
        "colab": {
          "base_uri": "https://localhost:8080/",
          "height": 50
        }
      },
      "source": [
        "n= int(input(\"enter the number\"))\n",
        "if n%3==0 and n%5==0:\n",
        "  print(\"yes\")\n",
        "else:\n",
        "  print(\"no\")"
      ],
      "execution_count": 0,
      "outputs": [
        {
          "output_type": "stream",
          "text": [
            "enter the number15\n",
            "yes\n"
          ],
          "name": "stdout"
        }
      ]
    },
    {
      "cell_type": "markdown",
      "metadata": {
        "id": "SlYM7X3Novfv",
        "colab_type": "text"
      },
      "source": [
        "# To check the given number is positive negative or zero"
      ]
    },
    {
      "cell_type": "code",
      "metadata": {
        "id": "1knb2NW3o8j_",
        "colab_type": "code",
        "outputId": "61a46ab8-1127-4798-d161-ba5e781de119",
        "colab": {
          "base_uri": "https://localhost:8080/",
          "height": 50
        }
      },
      "source": [
        "n=int(input(\"enter the number\"))\n",
        "if n==0:\n",
        "  print(\"zero\")\n",
        "elif n>0:\n",
        "  print(\"positive\")\n",
        "elif n<0:\n",
        "  print(\"negative\")\n",
        "  "
      ],
      "execution_count": 0,
      "outputs": [
        {
          "output_type": "stream",
          "text": [
            "enter the number0\n",
            "zero\n"
          ],
          "name": "stdout"
        }
      ]
    }
  ]
}