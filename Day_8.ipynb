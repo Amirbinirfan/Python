{
  "nbformat": 4,
  "nbformat_minor": 0,
  "metadata": {
    "colab": {
      "name": "Day 8",
      "version": "0.3.2",
      "provenance": [],
      "collapsed_sections": [],
      "include_colab_link": true
    },
    "kernelspec": {
      "display_name": "Python 3",
      "name": "python3"
    }
  },
  "cells": [
    {
      "cell_type": "markdown",
      "metadata": {
        "id": "view-in-github",
        "colab_type": "text"
      },
      "source": [
        "<a href=\"https://colab.research.google.com/github/Amirbinirfan/Python/blob/master/Day_8.ipynb\" target=\"_parent\"><img src=\"https://colab.research.google.com/assets/colab-badge.svg\" alt=\"Open In Colab\"/></a>"
      ]
    },
    {
      "cell_type": "markdown",
      "metadata": {
        "colab_type": "text",
        "id": "5fCEDCU_qrC0"
      },
      "source": [
        "<p><img alt=\"Colaboratory logo\" height=\"45px\" src=\"https://colab.research.google.com/img/colab_favicon.ico\" align=\"left\" hspace=\"10px\" vspace=\"0px\"></p>\n",
        "\n",
        "<h1>Welcome to Colaboratory!</h1>\n",
        "\n",
        "\n",
        "Colaboratory is a free Jupyter notebook environment that requires no setup and runs entirely in the cloud.\n",
        "\n",
        "With Colaboratory you can write and execute code, save and share your analyses, and access powerful computing resources, all for free from your browser."
      ]
    },
    {
      "cell_type": "code",
      "metadata": {
        "colab_type": "code",
        "id": "xitplqMNk_Hc",
        "outputId": "ed4f60d2-878d-4056-c438-352dac39a112",
        "colab": {
          "height": 420
        }
      },
      "source": [
        "#@title Introducing Colaboratory { display-mode: \"form\" }\n",
        "#@markdown This 3-minute video gives an overview of the key features of Colaboratory:\n",
        "from IPython.display import YouTubeVideo\n",
        "YouTubeVideo('inN8seMm7UI', width=600, height=400)"
      ],
      "execution_count": 0,
      "outputs": [
        {
          "output_type": "execute_result",
          "data": {
            "text/html": [
              "\n",
              "        <iframe\n",
              "            width=\"600\"\n",
              "            height=\"400\"\n",
              "            src=\"https://www.youtube.com/embed/inN8seMm7UI\"\n",
              "            frameborder=\"0\"\n",
              "            allowfullscreen\n",
              "        ></iframe>\n",
              "        "
            ],
            "text/plain": [
              "<IPython.lib.display.YouTubeVideo at 0x7f956e9dda50>"
            ]
          },
          "metadata": {
            "tags": []
          },
          "execution_count": 0
        }
      ]
    },
    {
      "cell_type": "markdown",
      "metadata": {
        "colab_type": "text",
        "id": "GJBs_flRovLc"
      },
      "source": [
        "## Getting Started\n",
        "\n",
        "The document you are reading is a  [Jupyter notebook](https://jupyter.org/), hosted in Colaboratory. It is not a static page, but an interactive environment that lets you write and execute code in Python and other languages.\n",
        "\n",
        "For example, here is a **code cell** with a short Python script that computes a value, stores it in a variable, and prints the result:"
      ]
    },
    {
      "cell_type": "code",
      "metadata": {
        "colab_type": "code",
        "id": "gJr_9dXGpJ05",
        "outputId": "5626194c-e802-4293-942d-2908885c3c1f",
        "colab": {
          "height": 35
        }
      },
      "source": [
        "seconds_in_a_day = 24 * 60 * 60\n",
        "seconds_in_a_day"
      ],
      "execution_count": 0,
      "outputs": [
        {
          "output_type": "execute_result",
          "data": {
            "text/plain": [
              "86400"
            ]
          },
          "metadata": {
            "tags": []
          },
          "execution_count": 0
        }
      ]
    },
    {
      "cell_type": "markdown",
      "metadata": {
        "colab_type": "text",
        "id": "2fhs6GZ4qFMx"
      },
      "source": [
        "To execute the code in the above cell, select it with a click and then either press the play button to the left of the code, or use the keyboard shortcut \"Command/Ctrl+Enter\".\n",
        "\n",
        "All cells modify the same global state, so variables that you define by executing a cell can be used in other cells:"
      ]
    },
    {
      "cell_type": "code",
      "metadata": {
        "colab_type": "code",
        "id": "-gE-Ez1qtyIA",
        "outputId": "8d2e4259-4682-4e19-b683-7b9087f28820",
        "colab": {
          "height": 35
        }
      },
      "source": [
        "seconds_in_a_week = 7 * seconds_in_a_day\n",
        "seconds_in_a_week"
      ],
      "execution_count": 0,
      "outputs": [
        {
          "output_type": "execute_result",
          "data": {
            "text/plain": [
              "604800"
            ]
          },
          "metadata": {
            "tags": []
          },
          "execution_count": 0
        }
      ]
    },
    {
      "cell_type": "markdown",
      "metadata": {
        "colab_type": "text",
        "id": "lSrWNr3MuFUS"
      },
      "source": [
        "For more information about working with Colaboratory notebooks, see [Overview of Colaboratory](/notebooks/basic_features_overview.ipynb).\n"
      ]
    },
    {
      "cell_type": "markdown",
      "metadata": {
        "colab_type": "text",
        "id": "-Rh3-Vt9Nev9"
      },
      "source": [
        "## More Resources\n",
        "\n",
        "Learn how to make the most of Python, Jupyter, Colaboratory, and related tools with these resources:\n",
        "\n",
        "### Working with Notebooks in Colaboratory\n",
        "- [Overview of Colaboratory](/notebooks/basic_features_overview.ipynb)\n",
        "- [Guide to Markdown](/notebooks/markdown_guide.ipynb)\n",
        "- [Importing libraries and installing dependencies](/notebooks/snippets/importing_libraries.ipynb)\n",
        "- [Saving and loading notebooks in GitHub](https://colab.research.google.com/github/googlecolab/colabtools/blob/master/notebooks/colab-github-demo.ipynb)\n",
        "- [Interactive forms](/notebooks/forms.ipynb)\n",
        "- [Interactive widgets](/notebooks/widgets.ipynb)\n",
        "\n",
        "### Working with Data\n",
        "- [Loading data: Drive, Sheets, and Google Cloud Storage](/notebooks/io.ipynb) \n",
        "- [Charts: visualizing data](/notebooks/charts.ipynb)\n",
        "- [Getting started with BigQuery](/notebooks/bigquery.ipynb)\n",
        "\n",
        "### Machine Learning Crash Course\n",
        "These are a few of the notebooks from Google's online Machine Learning course. See the [full course website](https://developers.google.com/machine-learning/crash-course/) for more.\n",
        "- [Intro to Pandas](/notebooks/mlcc/intro_to_pandas.ipynb)\n",
        "- [Tensorflow concepts](/notebooks/mlcc/tensorflow_programming_concepts.ipynb)\n",
        "- [First steps with TensorFlow](/notebooks/mlcc/first_steps_with_tensor_flow.ipynb)\n",
        "- [Intro to neural nets](/notebooks/mlcc/intro_to_neural_nets.ipynb)\n",
        "- [Intro to sparse data and embeddings](/notebooks/mlcc/intro_to_sparse_data_and_embeddings.ipynb)\n",
        "\n",
        "### Using Accelerated Hardware\n",
        "- [TensorFlow with GPUs](/notebooks/gpu.ipynb)\n",
        "- [TensorFlow with TPUs](/notebooks/tpu.ipynb)"
      ]
    },
    {
      "cell_type": "markdown",
      "metadata": {
        "colab_type": "text",
        "id": "P-H6Lw1vyNNd"
      },
      "source": [
        "## Machine Learning Examples: Seedbank\n",
        "\n",
        "To see end-to-end examples of the interactive machine learning analyses that Colaboratory makes possible, check out the [Seedbank](https://research.google.com/seedbank/) project.\n",
        "\n",
        "A few featured examples:\n",
        "\n",
        "- [Neural Style Transfer](https://research.google.com/seedbank/seed/neural_style_transfer_with_tfkeras): Use deep learning to transfer style between images.\n",
        "- [EZ NSynth](https://research.google.com/seedbank/seed/ez_nsynth): Synthesize audio with WaveNet auto-encoders.\n",
        "- [Fashion MNIST with Keras and TPUs](https://research.google.com/seedbank/seed/fashion_mnist_with_keras_and_tpus): Classify fashion-related images with deep learning.\n",
        "- [DeepDream](https://research.google.com/seedbank/seed/deepdream): Produce DeepDream images from your own photos.\n",
        "- [Convolutional VAE](https://research.google.com/seedbank/seed/convolutional_vae): Create a generative model of handwritten digits."
      ]
    },
    {
      "cell_type": "code",
      "metadata": {
        "id": "JTTbqzIC_HB5",
        "colab_type": "code",
        "colab": {}
      },
      "source": [
        "In [2]:\n",
        "# Find the factors of a given number\n",
        "# 12 -- > 1 2 3 4 6 12\n",
        "def factorsList(n):\n",
        "    for i in range(1,n+1):\n",
        "        if n % i == 0:\n",
        "            print(i,end=\" \")\n",
        "    return\n",
        "factorsList(12)\n",
        "1 2 3 4 6 12 \n",
        "In [9]:\n",
        "# Given number is Prime number or not\n",
        "def isPrime(n):\n",
        "    flag = True\n",
        "    for i in range(2,n//2+1):\n",
        "        if n % i == 0:\n",
        "            flag = False\n",
        "            return flag\n",
        "    return flag\n",
        "isPrime(11)\n",
        "Out[9]:\n",
        "True\n",
        "In [12]:\n",
        "# Function to find Prime numbers count from 1 to N\n",
        "# 10 -- 4(2,3,5,7)\n",
        "def primeCount(n):\n",
        "    cnt = 0 \n",
        "    for a in range(2,n+1):\n",
        "        k = 0\n",
        "        for i in range(2,a//2+1):\n",
        "            if a % i == 0:\n",
        "                k = k + 1\n",
        "        if(k<=0):\n",
        "            cnt = cnt + 1\n",
        "    return cnt\n",
        "print(primeCount(10))\n",
        "4\n",
        "In [15]:\n",
        "# Individual digit factorial sum is same as original number\n",
        "# Example :-\n",
        "# 145 -- Yes (5! + 4! + 1! = 145)\n",
        "# 123 -- No  (3! + 2! + 1! = 9)\n",
        "# Strong Number\n",
        "def factorial(n):\n",
        "    fact = 1\n",
        "    for i in range(2,n+1):\n",
        "        fact *= i\n",
        "    return fact\n",
        "def digitFactSum(n):\n",
        "    sum = 0\n",
        "    buffer = n\n",
        "    while n != 0 :\n",
        "        r = n % 10\n",
        "        sum += factorial(r)\n",
        "        n = n // 10        \n",
        "    if sum == buffer:\n",
        "        return \"Yes\"\n",
        "    else:\n",
        "        return \"No\"\n",
        "    return \n",
        "print(digitFactSum(145))\n",
        "print(digitFactSum(123))\n",
        "Yes\n",
        "No\n",
        "In [16]:\n",
        "# Function to return the count of Palindrome number two limits\n",
        "# Input : 1 10 \n",
        "# Output: 9 (1,2,3,4,5,6,7,8,9)\n",
        "\n",
        "# Input : 11 100\n",
        "# output : 9(11,22,33,....,99)\n",
        "def isPalindrome(n):\n",
        "    rev = 0\n",
        "    buffer = n\n",
        "    while n!= 0:\n",
        "        r = n % 10\n",
        "        rev = rev * 10 + r\n",
        "        n = n // 10\n",
        "    if rev == buffer:\n",
        "        return True\n",
        "    else:\n",
        "        return False\n",
        "    return\n",
        "\n",
        "def countPalindrome(lb,ub):\n",
        "    cnt = 0\n",
        "    while lb != ub:\n",
        "        # Implement\n",
        "        if isPalindrome(lb) == True:\n",
        "            cnt = cnt + 1\n",
        "        lb = lb + 1\n",
        "    return cnt\n",
        "countPalindrome(1,10)\n",
        "Out[16]:\n",
        "9\n",
        "In [21]:\n",
        "# Function to generate the perfect numbers in a given range\n",
        "# Perfect Number : Sum of all its factors same as original number \n",
        "# Example : 6 -- 1 2 3 (1 + 2 + 3)\n",
        "# Input : 1 10\n",
        "# Output : 6\n",
        "def factorsList(n):\n",
        "    sum = 0\n",
        "    for i in range(1,n//2+1):\n",
        "        if n % i == 0:\n",
        "            sum = sum + i        \n",
        "    return sum\n",
        "def isPerfect(n):\n",
        "    if factorsList(n) == n:\n",
        "        return True\n",
        "    return False\n",
        "def generatePerfect(lb,ub):\n",
        "    for x in range(lb,ub+1):\n",
        "        if isPerfect(x):\n",
        "            print(x,end = \" \")\n",
        "    print()\n",
        "    return\n",
        "\n",
        "generatePerfect(1,10)\n",
        "generatePerfect(1,10000)\n",
        "6 \n",
        "6 28 496 8128 \n",
        "Programming in Python (strings)\n",
        "Strings\n",
        "String Slicings\n",
        "Fundamental Programming with String in Python\n",
        "In [24]:\n",
        "s1 = 'Python'\n",
        "print(s1)\n",
        "print(type(s1))\n",
        "Python\n",
        "<class 'str'>\n",
        "In [32]:\n",
        "s1 = 'Python'\n",
        "print(s1[0]) # Access the first character\n",
        "print(s1[1]) # Access the second character\n",
        "print(s1[5]) # Last character\n",
        "print(s1[len(s1)-1]) # Access the last character\n",
        "P\n",
        "y\n",
        "n\n",
        "n\n",
        "In [39]:\n",
        "print(s1[-1]) #Another way Access the last charcter\n",
        "print(s1[-2]) # Another wayt to access the last second character\n",
        "print(s1[0:2]) # Access the first characters\n",
        "print(s1[:2]) # Access the first characters\n",
        "print(s1[-3:]) # Last three characters\n",
        "print(s1[2:]) # From second character to last character\n",
        "n\n",
        "o\n",
        "Py\n",
        "Py\n",
        "hon\n",
        "thon\n",
        "In [48]:\n",
        "print(s1[1:-1]) # printing all character expect first and last\n",
        "print(s1[len(s1)//2]) # Middle of the string\n",
        "print(s1[-1::-1]) # Reverse of the string\n",
        "print(s1[-1:-3:-1]) # Access the last two characters in reverse order\n",
        "# Access the alternate characters\n",
        "print(s1[::2]) # two characters \n",
        "print(s1[::3]) # three characters\n",
        "print(s1[::-2]) # from reverese order\n",
        "ytho\n",
        "h\n",
        "nohtyP\n",
        "no\n",
        "Pto\n",
        "Ph\n",
        "nhy\n",
        "In [49]:\n",
        "def reverseString(str):\n",
        "    return str[-1::-1]\n",
        "reverseString(\"Programming\")\n",
        "Out[49]:\n",
        "'gnimmargorP'\n",
        "In [52]:\n",
        "def isPalindrome(str):\n",
        "    if str == str[::-1]:\n",
        "        return True\n",
        "    else:\n",
        "        return False\n",
        "    return \n",
        "print(isPalindrome(\"Python\"))\n",
        "print(isPalindrome('ganag'))\n",
        "False\n",
        "True\n",
        "In [53]:\n",
        "def isPalindrome(str):\n",
        "    return str == str[::-1]\n",
        "print(isPalindrome(\"Python\"))\n",
        "print(isPalindrome('ganag'))\n",
        "False\n",
        "True\n",
        "In [58]:\n",
        "# Function to print the Upper case characters\n",
        "# Example:- PyThon -- P T\n",
        "# ASCII :-\n",
        "# A - Z : 65 - 90\n",
        "# a - z : 97 - 122\n",
        "# 0- 9  : 48 - 57\n",
        "# space : 32\n",
        "def printUpper(x):\n",
        "    for i in range(len(x)):\n",
        "        if ord(x[i]) >= 65 and ord(x[i]) <= 90:\n",
        "            print(x[i],end = \" \")\n",
        "    return\n",
        "printUpper(\"PyThon\")\n",
        "P T \n",
        "In [55]:\n",
        "ord('A') # It give you the equ ascii number for input character\n",
        "Out[55]:\n",
        "65\n",
        "In [59]:\n",
        "# Function to print \"SameCount\" if the count of \n",
        "# Upper and lower case is same\n",
        "# Print \"Programming\" if not same\n",
        "# Example : PyThOn -- 3 P T O (Upper case) -- SameCount\n",
        "#                     3 y h n (Lower case)\n",
        "# PytHon -- P H  (2)\n",
        "#        -- y t o n (4) - Programming\n",
        "def findCount(str):\n",
        "    cntUpper = 0\n",
        "    cntLower = 0\n",
        "    for x in range(len(str)):\n",
        "        if ord(str[x]) >= 65 and ord(str[x]) <= 90:\n",
        "            cntUpper = cntUpper + 1\n",
        "        elif ord(str[x]) >= 97 and ord(str[x]) <= 122:\n",
        "            cntLower = cntLower + 1\n",
        "    if cntUpper == cntLower:\n",
        "        return \"SameCount\"\n",
        "    else:\n",
        "        return \"Programming\"\n",
        "    return\n",
        "print(findCount('PyThOn')) # SameCount\n",
        "print(findCount('PYTHon')) # Programming\n",
        "SameCount\n",
        "Programming\n",
        "In [60]:\n",
        "# Extract digits from given string\n",
        "# Example:\n",
        "# Input : Appli1cat8ion89\n",
        "# Output : 1 8 8 9\n",
        "def extractDigits(str):\n",
        "    for x in range(len(str)):\n",
        "        if ord(str[x]) >= 48  and ord(str[x]) <= 57:\n",
        "            print(str[x],end=\" \")\n",
        "    return\n",
        "extractDigits(\"Appli1cat8ion89\") # 1 8 8 9\n",
        "1 8 8 9 \n",
        "In [63]:\n",
        "# Function to return the sum of digits in a given string\n",
        "# Example : \n",
        "# Input : Appli1cat8ion89\n",
        "# Output: 26(1+8+8+9)\n",
        "# 0 1 2 3 4 5 ... 9\n",
        "# 48 49 50 51 52 53 ... 57\n",
        "def sumOfDigits(str):\n",
        "    sum = 0\n",
        "    for x in range(len(str)):\n",
        "        if ord(str[x]) >= 48 and ord(str[x]) <= 57:\n",
        "            sum = sum + (ord(str[x])-48)\n",
        "    return sum\n",
        "sumOfDigits('Appli1cat8ion89')\n",
        "Out[63]:\n",
        "26\n",
        "In [65]:\n",
        "# Function to return the sum of digits in a given string\n",
        "# Example : \n",
        "# Input : Appli1cat8ion89\n",
        "# Output: 16(8+8)\n",
        "def sumOfEvenDigits(str):\n",
        "    sum = 0\n",
        "    for x in range(len(str)):\n",
        "        if ord(str[x]) >= 48 and ord(str[x]) <= 57:\n",
        "            if (ord(str[x])-48) % 2 == 0:\n",
        "                sum = sum + (ord(str[x])-48)            \n",
        "    return sum\n",
        "sumOfEvenDigits('Appli1cat8ion89')\n",
        "Out[65]:\n",
        "16\n",
        "In [80]:\n",
        "# Function to print the Specific Word in Upper case\n",
        "# Example:\n",
        "# Input : Python Made Easy\n",
        "# Output : MADE\n",
        "# Input : Learn Python Programming\n",
        "# Output : PYTHON\n",
        "def wordUpperCase(s):\n",
        "    spaceCnt = 0\n",
        "    for x in range(len(s)):        \n",
        "        if ord(s[x]) == 32:\n",
        "            spaceCnt += 1 # spaceCnt = spaceCnt + 1           \n",
        "        if spaceCnt == 1:\n",
        "            if ord(s[x]) >= 65 and ord(s[x]) <= 90:\n",
        "                print(s[x],end=\"\")\n",
        "            elif ord(s[x]) >= 97 and ord(s[x]) <= 122 :\n",
        "                print(chr(ord(s[x])-32),end=\"\")\n",
        "        if spaceCnt == 2:\n",
        "            break\n",
        "    return\n",
        "wordUpperCase('Python Made Easy') # MADE\n",
        "MADE\n",
        "In [72]:\n",
        "print('hello')\n",
        "hello\n",
        "In [ ]:\n",
        "\n",
        "In [ ]:\n"
      ],
      "execution_count": 0,
      "outputs": []
    }
  ]
}