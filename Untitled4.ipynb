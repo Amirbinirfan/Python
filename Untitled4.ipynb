{
  "nbformat": 4,
  "nbformat_minor": 0,
  "metadata": {
    "colab": {
      "name": "Untitled4.ipynb",
      "version": "0.3.2",
      "provenance": [],
      "include_colab_link": true
    },
    "kernelspec": {
      "name": "python3",
      "display_name": "Python 3"
    }
  },
  "cells": [
    {
      "cell_type": "markdown",
      "metadata": {
        "id": "view-in-github",
        "colab_type": "text"
      },
      "source": [
        "<a href=\"https://colab.research.google.com/github/Amirbinirfan/Python/blob/master/Untitled4.ipynb\" target=\"_parent\"><img src=\"https://colab.research.google.com/assets/colab-badge.svg\" alt=\"Open In Colab\"/></a>"
      ]
    },
    {
      "cell_type": "code",
      "metadata": {
        "id": "Uqi4rWWu1ULi",
        "colab_type": "code",
        "colab": {
          "base_uri": "https://localhost:8080/",
          "height": 52
        },
        "outputId": "510ed870-6bf8-4d72-e053-a29816eb9840"
      },
      "source": [
        "import re\n",
        "def twoDigitmatching(n):\n",
        "  pattern='^[0-9][2]$'\n",
        "  n=str(n)\n",
        "  if re.match(pattern,n):\n",
        "    return True\n",
        "  return False\n",
        "print(twoDigitmatching(12))\n",
        "print(twoDigitmatching(123))"
      ],
      "execution_count": 4,
      "outputs": [
        {
          "output_type": "stream",
          "text": [
            "True\n",
            "False\n"
          ],
          "name": "stdout"
        }
      ]
    },
    {
      "cell_type": "code",
      "metadata": {
        "id": "v-TLAKBd2kB6",
        "colab_type": "code",
        "colab": {
          "base_uri": "https://localhost:8080/",
          "height": 52
        },
        "outputId": "92f20fda-5069-4345-d0fd-cf1ddce8e003"
      },
      "source": [
        "def testusername(s):\n",
        "    pattern='^[a-zA-Z]{8}$'\n",
        "    if re.match(pattern,s):\n",
        "        return True\n",
        "    return False\n",
        "print(testusername('GitamHYD'))\n",
        "print(testusername('Gitam188'))\n",
        "              "
      ],
      "execution_count": 8,
      "outputs": [
        {
          "output_type": "stream",
          "text": [
            "True\n",
            "False\n"
          ],
          "name": "stdout"
        }
      ]
    },
    {
      "cell_type": "code",
      "metadata": {
        "id": "LT1fEhaO5Uec",
        "colab_type": "code",
        "colab": {
          "base_uri": "https://localhost:8080/",
          "height": 132
        },
        "outputId": "c16d2c1c-b32e-4c8e-ab5b-2b1b30f99496"
      },
      "source": [
        "def phonenumbervalidation(phone):\n",
        " pattern='^[6-9][0-9]{9}$|^[0][6-9]{9}$|^[+][9][1][6-9][0-9]{9}$'\n",
        " phone=str(phone)\n",
        "if re.match(pattern,phone):\n",
        "   return True\n",
        " return False\n",
        "phonenumbervalidation('+919542562034')"
      ],
      "execution_count": 19,
      "outputs": [
        {
          "output_type": "error",
          "ename": "IndentationError",
          "evalue": "ignored",
          "traceback": [
            "\u001b[0;36m  File \u001b[0;32m\"<ipython-input-19-c211956fad29>\"\u001b[0;36m, line \u001b[0;32m6\u001b[0m\n\u001b[0;31m    return False\u001b[0m\n\u001b[0m                ^\u001b[0m\n\u001b[0;31mIndentationError\u001b[0m\u001b[0;31m:\u001b[0m unindent does not match any outer indentation level\n"
          ]
        }
      ]
    },
    {
      "cell_type": "code",
      "metadata": {
        "id": "Ib67wegI9-In",
        "colab_type": "code",
        "colab": {
          "base_uri": "https://localhost:8080/",
          "height": 132
        },
        "outputId": "95615fa1-eda7-4446-b8d2-ea7945adf418"
      },
      "source": [
        "def emailvalidation(email):\n",
        "  pattern='^[0-9a-z][0-9a-z_.]{5,14}[@][a-z0-9]{3,18}[.]'\n",
        "  if re.match(pattern,email):\n",
        "      return True\n",
        "    return False\n",
        "emailvalidation('anilkumar189@gmail.com')  \n",
        "                  "
      ],
      "execution_count": 20,
      "outputs": [
        {
          "output_type": "error",
          "ename": "IndentationError",
          "evalue": "ignored",
          "traceback": [
            "\u001b[0;36m  File \u001b[0;32m\"<ipython-input-20-4146be3e9aab>\"\u001b[0;36m, line \u001b[0;32m5\u001b[0m\n\u001b[0;31m    return False\u001b[0m\n\u001b[0m                ^\u001b[0m\n\u001b[0;31mIndentationError\u001b[0m\u001b[0;31m:\u001b[0m unindent does not match any outer indentation level\n"
          ]
        }
      ]
    }
  ]
}